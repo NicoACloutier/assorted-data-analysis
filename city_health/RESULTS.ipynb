{
 "cells": [
  {
   "cell_type": "markdown",
   "id": "1c9c685c",
   "metadata": {},
   "source": [
    "<h1> City Health </h1>\n",
    "<h3> Methodology and Purpose </h3>\n",
    "This was a small project to get used to doing three things that I was not as familiar with in data science but I would like to get more familiar with, namely, working with more numerical data, using JuliaLang, and interacting with <a href=\"data.gov\">government data</a>. I got data from the Department of Health and Human services, specifically data about various health afflictions from various US cities."
   ]
  }
 ],
 "metadata": {
  "kernelspec": {
   "display_name": "Python 3 (ipykernel)",
   "language": "python",
   "name": "python3"
  },
  "language_info": {
   "codemirror_mode": {
    "name": "ipython",
    "version": 3
   },
   "file_extension": ".py",
   "mimetype": "text/x-python",
   "name": "python",
   "nbconvert_exporter": "python",
   "pygments_lexer": "ipython3",
   "version": "3.9.12"
  }
 },
 "nbformat": 4,
 "nbformat_minor": 5
}
