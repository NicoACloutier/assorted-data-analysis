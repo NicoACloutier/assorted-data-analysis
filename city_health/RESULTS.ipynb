{
 "cells": [
  {
   "cell_type": "markdown",
   "id": "1c9c685c",
   "metadata": {},
   "source": [
    "<h1> City Health </h1>\n",
    "This was a small project to get used to doing three things that I was not as familiar with in data science but I would like to get more familiar with, namely, working with more numerical data, using the Julia programming language, and interacting with <a href=\"data.gov\">government data</a>. I got data from the Department of Health and Human services, specifically data about various health afflictions from various US cities. I did a simple statistical analysis of the data, finding multiple single-variable data points for the afflictions, like the mean, standard deviation, and variance, and then I compared the data to find the afflictions that had the highest positive and negative correlations with each other. The basic single-variable information (as well as some information about correlations) can be found in basicinfo.csv, while the exact correlations can be found in correlations.csv."
   ]
  }
 ],
 "metadata": {
  "kernelspec": {
   "display_name": "Python 3 (ipykernel)",
   "language": "python",
   "name": "python3"
  },
  "language_info": {
   "codemirror_mode": {
    "name": "ipython",
    "version": 3
   },
   "file_extension": ".py",
   "mimetype": "text/x-python",
   "name": "python",
   "nbconvert_exporter": "python",
   "pygments_lexer": "ipython3",
   "version": "3.9.12"
  }
 },
 "nbformat": 4,
 "nbformat_minor": 5
}
