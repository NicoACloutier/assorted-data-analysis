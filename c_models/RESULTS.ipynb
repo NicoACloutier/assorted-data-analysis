{
 "cells": [
  {
   "cell_type": "markdown",
   "id": "92f0fe4a",
   "metadata": {},
   "source": [
    "This is an ongoing project where I build statistical learning models in C from scratch. The goal is to learn about these models, as well as the C language."
   ]
  }
 ],
 "metadata": {
  "kernelspec": {
   "display_name": "Python 3 (ipykernel)",
   "language": "python",
   "name": "python3"
  },
  "language_info": {
   "codemirror_mode": {
    "name": "ipython",
    "version": 3
   },
   "file_extension": ".py",
   "mimetype": "text/x-python",
   "name": "python",
   "nbconvert_exporter": "python",
   "pygments_lexer": "ipython3",
   "version": "3.9.12"
  }
 },
 "nbformat": 4,
 "nbformat_minor": 5
}
