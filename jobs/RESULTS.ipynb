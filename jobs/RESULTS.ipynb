{
 "cells": [
  {
   "cell_type": "markdown",
   "id": "32578ddc-b310-4f0a-9c35-110bff2a5517",
   "metadata": {},
   "source": [
    "<h1>Jobs analysis project</h1>\n",
    "This is a project where I built a data pipeline, continuously collecting new data on data science, engineering, and analytics jobs from monster.com, then perform analyses and visualizations on how various aspects of the collected data affect salaries in the field. The focus of the project is on the pipeline itself, with the other aspects primarily being there to give the pipeline something to do. I used Julia for the entire pipeline. I used the Gumbo and Cascadia Julia libraries for web scraping, and collected and organized the data into a SQLite database."
   ]
  }
 ],
 "metadata": {
  "kernelspec": {
   "display_name": "Julia 1.8.0",
   "language": "julia",
   "name": "julia-1.8"
  },
  "language_info": {
   "file_extension": ".jl",
   "mimetype": "application/julia",
   "name": "julia",
   "version": "1.8.0"
  }
 },
 "nbformat": 4,
 "nbformat_minor": 5
}
