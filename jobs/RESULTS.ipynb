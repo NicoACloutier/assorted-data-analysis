{
 "cells": [
  {
   "cell_type": "markdown",
   "id": "32578ddc-b310-4f0a-9c35-110bff2a5517",
   "metadata": {
    "tags": []
   },
   "source": [
    "<h1>Jobs analysis project</h1>\n",
    "This is a project where I built a data pipeline, continuously collecting new data on data science, engineering, and analytics jobs from monster.com, then perform analyses and visualizations on how various aspects of the collected data affect salaries in the field. The focus of the project is on the pipeline itself, with the other aspects primarily being there to give the pipeline something to do. I used Julia for the entire pipeline. I used the Gumbo and Cascadia Julia libraries for web scraping, and collected and organized the data into a SQLite database."
   ]
  },
  {
   "cell_type": "code",
   "execution_count": 1,
   "id": "e0632ed9-687c-4485-9536-4ac743c6261a",
   "metadata": {
    "tags": []
   },
   "outputs": [
    {
     "data": {
      "text/plain": [
       "\".\\\\data\\\\cleaned\""
      ]
     },
     "execution_count": 1,
     "metadata": {},
     "output_type": "execute_result"
    }
   ],
   "source": [
    "using DataFrames\n",
    "using SQLite\n",
    "using PyCall\n",
    "using ScikitLearn\n",
    "@sk_import linear_model: (Ridge, Lasso)\n",
    "const DATA_DIR = \".\\\\data\\\\cleaned\""
   ]
  },
  {
   "cell_type": "code",
   "execution_count": 2,
   "id": "d89f604b-7f06-476c-9692-ceb0ea3b2e8f",
   "metadata": {
    "tags": []
   },
   "outputs": [
    {
     "data": {
      "text/plain": [
       "SQLite.DB(\".\\data\\cleaned\\jobs.db\")"
      ]
     },
     "execution_count": 2,
     "metadata": {},
     "output_type": "execute_result"
    }
   ],
   "source": [
    "db = SQLite.DB(\"$(DATA_DIR)\\\\jobs.db\")"
   ]
  },
  {
   "cell_type": "code",
   "execution_count": 3,
   "id": "53fe4ae2-d618-435c-ba3f-e386d5f63876",
   "metadata": {},
   "outputs": [
    {
     "data": {
      "text/html": [
       "<div class=\"data-frame\"><p>87 rows × 4 columns</p><table class=\"data-frame\"><thead><tr><th></th><th>PostingID</th><th>Location</th><th>Salary</th><th>Date</th></tr><tr><th></th><th title=\"Int64\">Int64</th><th title=\"String\">String</th><th title=\"Union{Missing, Int64}\">Int64?</th><th title=\"String\">String</th></tr></thead><tbody><tr><th>1</th><td>1</td><td>Clearfield, UT</td><td>101000</td><td>2023-01-23</td></tr><tr><th>2</th><td>2</td><td>Nashville, TN</td><td>65500</td><td>2023-01-23</td></tr><tr><th>3</th><td>3</td><td>Chantilly, VA</td><td>170000</td><td>2023-01-23</td></tr><tr><th>4</th><td>4</td><td>Apple Valley, MN</td><td>107000</td><td>2023-01-23</td></tr><tr><th>5</th><td>5</td><td>Columbus, OH</td><td>80000</td><td>2023-01-23</td></tr><tr><th>6</th><td>6</td><td>Boston, MA</td><td>62500</td><td>2023-01-23</td></tr><tr><th>7</th><td>7</td><td>Dallas, TX</td><td>78000</td><td>2023-01-23</td></tr><tr><th>8</th><td>8</td><td>Huntsville, AL</td><td>150000</td><td>2023-01-23</td></tr><tr><th>9</th><td>9</td><td>Palmdale, CA</td><td>238500</td><td>2023-01-23</td></tr><tr><th>10</th><td>10</td><td>Jacksonville, FL</td><td>118500</td><td>2023-01-23</td></tr><tr><th>11</th><td>11</td><td>Columbia, MD</td><td>175000</td><td>2023-01-23</td></tr><tr><th>12</th><td>12</td><td>Danvers, MA</td><td>98000</td><td>2023-01-23</td></tr><tr><th>13</th><td>13</td><td>Englewood, CO</td><td>110000</td><td>2023-01-23</td></tr><tr><th>14</th><td>14</td><td>Irving, TX</td><td>130000</td><td>2023-01-23</td></tr><tr><th>15</th><td>15</td><td>Herndon, VA</td><td>69000</td><td>2023-01-23</td></tr><tr><th>16</th><td>16</td><td>Fort Meade, MD</td><td>125500</td><td>2023-01-23</td></tr><tr><th>17</th><td>17</td><td>Patuxent River, MD</td><td>97500</td><td>2023-01-23</td></tr><tr><th>18</th><td>18</td><td>Charlotte, NC</td><td>112500</td><td>2023-01-23</td></tr><tr><th>19</th><td>19</td><td>South Burlington, VT</td><td>66000</td><td>2023-01-23</td></tr><tr><th>20</th><td>20</td><td>Social Circle, GA</td><td>129500</td><td>2023-01-23</td></tr><tr><th>21</th><td>21</td><td>Pensacola, FL</td><td>136500</td><td>2023-01-23</td></tr><tr><th>22</th><td>22</td><td>Rockville, MD</td><td>75000</td><td>2023-01-23</td></tr><tr><th>23</th><td>23</td><td>Kennesaw, GA</td><td>106500</td><td>2023-01-23</td></tr><tr><th>24</th><td>24</td><td>Portland, ME</td><td>141500</td><td>2023-01-23</td></tr><tr><th>25</th><td>25</td><td>New York, NY</td><td>135500</td><td>2023-01-23</td></tr><tr><th>26</th><td>26</td><td>Corvallis, OR</td><td>85000</td><td>2023-01-23</td></tr><tr><th>27</th><td>27</td><td>Houston, TX</td><td>150500</td><td>2023-01-23</td></tr><tr><th>28</th><td>28</td><td>Lexington, MA</td><td>83500</td><td>2023-01-23</td></tr><tr><th>29</th><td>29</td><td>Dallas, TX</td><td>109500</td><td>2023-01-23</td></tr><tr><th>30</th><td>30</td><td>Tilton, NH</td><td>65000</td><td>2023-01-23</td></tr><tr><th>&vellip;</th><td>&vellip;</td><td>&vellip;</td><td>&vellip;</td><td>&vellip;</td></tr></tbody></table></div>"
      ],
      "text/latex": [
       "\\begin{tabular}{r|cccc}\n",
       "\t& PostingID & Location & Salary & Date\\\\\n",
       "\t\\hline\n",
       "\t& Int64 & String & Int64? & String\\\\\n",
       "\t\\hline\n",
       "\t1 & 1 & Clearfield, UT & 101000 & 2023-01-23 \\\\\n",
       "\t2 & 2 & Nashville, TN & 65500 & 2023-01-23 \\\\\n",
       "\t3 & 3 & Chantilly, VA & 170000 & 2023-01-23 \\\\\n",
       "\t4 & 4 & Apple Valley, MN & 107000 & 2023-01-23 \\\\\n",
       "\t5 & 5 & Columbus, OH & 80000 & 2023-01-23 \\\\\n",
       "\t6 & 6 & Boston, MA & 62500 & 2023-01-23 \\\\\n",
       "\t7 & 7 & Dallas, TX & 78000 & 2023-01-23 \\\\\n",
       "\t8 & 8 & Huntsville, AL & 150000 & 2023-01-23 \\\\\n",
       "\t9 & 9 & Palmdale, CA & 238500 & 2023-01-23 \\\\\n",
       "\t10 & 10 & Jacksonville, FL & 118500 & 2023-01-23 \\\\\n",
       "\t11 & 11 & Columbia, MD & 175000 & 2023-01-23 \\\\\n",
       "\t12 & 12 & Danvers, MA & 98000 & 2023-01-23 \\\\\n",
       "\t13 & 13 & Englewood, CO & 110000 & 2023-01-23 \\\\\n",
       "\t14 & 14 & Irving, TX & 130000 & 2023-01-23 \\\\\n",
       "\t15 & 15 & Herndon, VA & 69000 & 2023-01-23 \\\\\n",
       "\t16 & 16 & Fort Meade, MD & 125500 & 2023-01-23 \\\\\n",
       "\t17 & 17 & Patuxent River, MD & 97500 & 2023-01-23 \\\\\n",
       "\t18 & 18 & Charlotte, NC & 112500 & 2023-01-23 \\\\\n",
       "\t19 & 19 & South Burlington, VT & 66000 & 2023-01-23 \\\\\n",
       "\t20 & 20 & Social Circle, GA & 129500 & 2023-01-23 \\\\\n",
       "\t21 & 21 & Pensacola, FL & 136500 & 2023-01-23 \\\\\n",
       "\t22 & 22 & Rockville, MD & 75000 & 2023-01-23 \\\\\n",
       "\t23 & 23 & Kennesaw, GA & 106500 & 2023-01-23 \\\\\n",
       "\t24 & 24 & Portland, ME & 141500 & 2023-01-23 \\\\\n",
       "\t25 & 25 & New York, NY & 135500 & 2023-01-23 \\\\\n",
       "\t26 & 26 & Corvallis, OR & 85000 & 2023-01-23 \\\\\n",
       "\t27 & 27 & Houston, TX & 150500 & 2023-01-23 \\\\\n",
       "\t28 & 28 & Lexington, MA & 83500 & 2023-01-23 \\\\\n",
       "\t29 & 29 & Dallas, TX & 109500 & 2023-01-23 \\\\\n",
       "\t30 & 30 & Tilton, NH & 65000 & 2023-01-23 \\\\\n",
       "\t$\\dots$ & $\\dots$ & $\\dots$ & $\\dots$ & $\\dots$ \\\\\n",
       "\\end{tabular}\n"
      ],
      "text/plain": [
       "\u001b[1m87×4 DataFrame\u001b[0m\n",
       "\u001b[1m Row \u001b[0m│\u001b[1m PostingID \u001b[0m\u001b[1m Location            \u001b[0m\u001b[1m Salary \u001b[0m\u001b[1m Date       \u001b[0m\n",
       "\u001b[1m     \u001b[0m│\u001b[90m Int64     \u001b[0m\u001b[90m String              \u001b[0m\u001b[90m Int64? \u001b[0m\u001b[90m String     \u001b[0m\n",
       "─────┼────────────────────────────────────────────────────\n",
       "   1 │         1  Clearfield, UT       101000  2023-01-23\n",
       "   2 │         2  Nashville, TN         65500  2023-01-23\n",
       "   3 │         3  Chantilly, VA        170000  2023-01-23\n",
       "   4 │         4  Apple Valley, MN     107000  2023-01-23\n",
       "   5 │         5  Columbus, OH          80000  2023-01-23\n",
       "   6 │         6  Boston, MA            62500  2023-01-23\n",
       "   7 │         7  Dallas, TX            78000  2023-01-23\n",
       "   8 │         8  Huntsville, AL       150000  2023-01-23\n",
       "   9 │         9  Palmdale, CA         238500  2023-01-23\n",
       "  10 │        10  Jacksonville, FL     118500  2023-01-23\n",
       "  11 │        11  Columbia, MD         175000  2023-01-23\n",
       "  ⋮  │     ⋮               ⋮             ⋮         ⋮\n",
       "  78 │        78  Camden, NJ            91000  2023-01-23\n",
       "  79 │        79  Boston, MA            95000  2023-01-23\n",
       "  80 │        80  Wellesley Hills, MA   29000  2023-01-23\n",
       "  81 │        81  Hartford, CT         151000  2023-01-23\n",
       "  82 │        82  Beachwood, OH         87500  2023-01-23\n",
       "  83 │        83  Chandler, AZ          83500  2023-01-23\n",
       "  84 │        84  San Diego, CA        101000  2023-01-23\n",
       "  85 │        85  Atlanta, GA           94000  2023-01-23\n",
       "  86 │        86  Denver, CO            62500  2023-01-23\n",
       "  87 │        87  Bethesda, MD         116000  2023-01-23\n",
       "\u001b[36m                                           66 rows omitted\u001b[0m"
      ]
     },
     "execution_count": 3,
     "metadata": {},
     "output_type": "execute_result"
    }
   ],
   "source": [
    "#analyze/create visualizations for geo data (put in function to avoid global variables)\n",
    "function geo_analysis()\n",
    "    location_data = SQLite.DBInterface.execute(db, \"SELECT * FROM Geography\")\n",
    "    location_df = DataFrame(location_data)\n",
    "end\n",
    "geo_analysis()"
   ]
  },
  {
   "cell_type": "code",
   "execution_count": 4,
   "id": "045fe111-d709-4b04-b0d0-a136c9a65e29",
   "metadata": {},
   "outputs": [
    {
     "data": {
      "text/html": [
       "<div class=\"data-frame\"><p>0 rows × 0 columns</p><table class=\"data-frame\"><thead><tr><th></th></tr><tr><th></th></tr></thead><tbody></tbody></table></div>"
      ],
      "text/latex": [
       "\\begin{tabular}{r|}\n",
       "\t& \\\\\n",
       "\t\\hline\n",
       "\t& \\\\\n",
       "\t\\hline\n",
       "\\end{tabular}\n"
      ],
      "text/plain": [
       "\u001b[1m0×0 DataFrame\u001b[0m"
      ]
     },
     "execution_count": 4,
     "metadata": {},
     "output_type": "execute_result"
    }
   ],
   "source": [
    "function company_analysis()\n",
    "    company_data = SQLite.DBInterface.execute(db, \"SELECT * FROM Companies\")\n",
    "    company_df = DataFrame()\n",
    "end\n",
    "company_analysis()"
   ]
  },
  {
   "cell_type": "code",
   "execution_count": 25,
   "id": "abc75d85-901d-4aa9-88fe-c3354f474668",
   "metadata": {
    "tags": []
   },
   "outputs": [
    {
     "data": {
      "text/html": [
       "<div class=\"data-frame\"><p>16 rows × 4 columns</p><table class=\"data-frame\"><thead><tr><th></th><th>names</th><th>ridges</th><th>lassos</th><th>Mean</th></tr><tr><th></th><th title=\"String\">String</th><th title=\"Any\">Any</th><th title=\"Any\">Any</th><th title=\"Float64\">Float64</th></tr></thead><tbody><tr><th>1</th><td>systems</td><td>1.60122e5</td><td>2.0948e5</td><td>1.84801e5</td></tr><tr><th>2</th><td>sr</td><td>1.39232e5</td><td>1.79794e5</td><td>159513.0</td></tr><tr><th>3</th><td>software</td><td>96786.7</td><td>1.18959e5</td><td>1.07873e5</td></tr><tr><th>4</th><td>senior</td><td>73992.8</td><td>90429.1</td><td>82211.0</td></tr><tr><th>5</th><td>principal</td><td>57810.1</td><td>83928.0</td><td>70869.1</td></tr><tr><th>6</th><td>scientist</td><td>63805.0</td><td>76180.5</td><td>69992.7</td></tr><tr><th>7</th><td>manager</td><td>46593.5</td><td>73966.4</td><td>60280.0</td></tr><tr><th>8</th><td>project</td><td>48020.9</td><td>67340.1</td><td>57680.5</td></tr><tr><th>9</th><td>science</td><td>48236.3</td><td>65137.5</td><td>56686.9</td></tr><tr><th>10</th><td>lead</td><td>37606.5</td><td>61857.3</td><td>49731.9</td></tr><tr><th>11</th><td>data</td><td>24593.0</td><td>46181.1</td><td>35387.0</td></tr><tr><th>12</th><td>center</td><td>10884.5</td><td>31437.3</td><td>21160.9</td></tr><tr><th>13</th><td>engineer</td><td>8098.55</td><td>21717.0</td><td>14907.8</td></tr><tr><th>14</th><td>analytics</td><td>-9376.06</td><td>-931.962</td><td>-5154.01</td></tr><tr><th>15</th><td>business</td><td>-10568.6</td><td>-5553.82</td><td>-8061.21</td></tr><tr><th>16</th><td>analyst</td><td>-26531.9</td><td>-29927.3</td><td>-28229.6</td></tr></tbody></table></div>"
      ],
      "text/latex": [
       "\\begin{tabular}{r|cccc}\n",
       "\t& names & ridges & lassos & Mean\\\\\n",
       "\t\\hline\n",
       "\t& String & Any & Any & Float64\\\\\n",
       "\t\\hline\n",
       "\t1 & systems & 1.60122e5 & 2.0948e5 & 1.84801e5 \\\\\n",
       "\t2 & sr & 1.39232e5 & 1.79794e5 & 159513.0 \\\\\n",
       "\t3 & software & 96786.7 & 1.18959e5 & 1.07873e5 \\\\\n",
       "\t4 & senior & 73992.8 & 90429.1 & 82211.0 \\\\\n",
       "\t5 & principal & 57810.1 & 83928.0 & 70869.1 \\\\\n",
       "\t6 & scientist & 63805.0 & 76180.5 & 69992.7 \\\\\n",
       "\t7 & manager & 46593.5 & 73966.4 & 60280.0 \\\\\n",
       "\t8 & project & 48020.9 & 67340.1 & 57680.5 \\\\\n",
       "\t9 & science & 48236.3 & 65137.5 & 56686.9 \\\\\n",
       "\t10 & lead & 37606.5 & 61857.3 & 49731.9 \\\\\n",
       "\t11 & data & 24593.0 & 46181.1 & 35387.0 \\\\\n",
       "\t12 & center & 10884.5 & 31437.3 & 21160.9 \\\\\n",
       "\t13 & engineer & 8098.55 & 21717.0 & 14907.8 \\\\\n",
       "\t14 & analytics & -9376.06 & -931.962 & -5154.01 \\\\\n",
       "\t15 & business & -10568.6 & -5553.82 & -8061.21 \\\\\n",
       "\t16 & analyst & -26531.9 & -29927.3 & -28229.6 \\\\\n",
       "\\end{tabular}\n"
      ],
      "text/plain": [
       "\u001b[1m16×4 DataFrame\u001b[0m\n",
       "\u001b[1m Row \u001b[0m│\u001b[1m names     \u001b[0m\u001b[1m ridges    \u001b[0m\u001b[1m lassos    \u001b[0m\u001b[1m Mean           \u001b[0m\n",
       "\u001b[1m     \u001b[0m│\u001b[90m String    \u001b[0m\u001b[90m Any       \u001b[0m\u001b[90m Any       \u001b[0m\u001b[90m Float64        \u001b[0m\n",
       "─────┼─────────────────────────────────────────────────\n",
       "   1 │ systems    1.60122e5  2.0948e5        1.84801e5\n",
       "   2 │ sr         1.39232e5  1.79794e5  159513.0\n",
       "   3 │ software   96786.7    1.18959e5       1.07873e5\n",
       "   4 │ senior     73992.8    90429.1     82211.0\n",
       "   5 │ principal  57810.1    83928.0     70869.1\n",
       "   6 │ scientist  63805.0    76180.5     69992.7\n",
       "   7 │ manager    46593.5    73966.4     60280.0\n",
       "   8 │ project    48020.9    67340.1     57680.5\n",
       "   9 │ science    48236.3    65137.5     56686.9\n",
       "  10 │ lead       37606.5    61857.3     49731.9\n",
       "  11 │ data       24593.0    46181.1     35387.0\n",
       "  12 │ center     10884.5    31437.3     21160.9\n",
       "  13 │ engineer   8098.55    21717.0     14907.8\n",
       "  14 │ analytics  -9376.06   -931.962    -5154.01\n",
       "  15 │ business   -10568.6   -5553.82    -8061.21\n",
       "  16 │ analyst    -26531.9   -29927.3   -28229.6"
      ]
     },
     "execution_count": 25,
     "metadata": {},
     "output_type": "execute_result"
    }
   ],
   "source": [
    "function find_slopes(model, dims)\n",
    "    zero_list = zeros(dims)\n",
    "    slopes = []\n",
    "    basic = predict(model, [zero_list,])[1]\n",
    "    for i in range(1, dims)\n",
    "        zero_list[i] = 1\n",
    "        predicted = predict(model, [zero_list,])[1]\n",
    "        push!(slopes, predicted - basic)\n",
    "    end\n",
    "    slopes\n",
    "end\n",
    "\n",
    "function title_analysis()\n",
    "    special_columns = [\"PostingID\", \"Salary\", \"Date\"]\n",
    "    data = SQLite.DBInterface.execute(db, \"SELECT * FROM Title\")\n",
    "    title_df = DataFrame(data)\n",
    "    dropmissing!(title_df)\n",
    "    predictors = [column for column in names(title_df) if !in(column, special_columns)]\n",
    "    predictor_df = DataFrame()\n",
    "    for predictor in predictors\n",
    "        predictor_df[!, predictor] = title_df[!, predictor]\n",
    "    end\n",
    "    ridge = Ridge()\n",
    "    lasso = Lasso()\n",
    "    \n",
    "    #not splitting into train and test because this is just for inference\n",
    "    \n",
    "    ScikitLearn.fit!(ridge, Array(predictor_df), Array(title_df[!, \"Salary\"]))\n",
    "    ScikitLearn.fit!(lasso, Array(predictor_df), title_df[!, \"Salary\"])\n",
    "    \n",
    "    ridge_slopes = find_slopes(ridge, length(names(predictor_df)))\n",
    "    lasso_slopes = find_slopes(lasso, length(names(predictor_df)))\n",
    "    \n",
    "    output_df = DataFrame(names = names(predictor_df), ridges = ridge_slopes, lassos = lasso_slopes)\n",
    "    output_df[!, \"Mean\"] = (output_df[!, \"ridges\"] + output_df[!, \"lassos\"]) / 2\n",
    "    sort!(output_df, [order(:Mean, rev = true)])\n",
    "    \n",
    "    output_df\n",
    "end\n",
    "title_analysis()"
   ]
  },
  {
   "cell_type": "markdown",
   "id": "93591a87-89b4-477e-afee-32cb509e449f",
   "metadata": {},
   "source": [
    "The above analyses are for the titles of the jobs postings. Selected words that were present in a particular proportion of job posting titles were used to fit a model to predict salary/wage based on words in the job title, with titles being represented as one-hot encodings. Negative slopes represent a word the presence of which indicates a lower salary relative to other salaries in the sample, and positive slopes represent an increase. Higher absolute values indicate a larger predicted effect."
   ]
  }
 ],
 "metadata": {
  "kernelspec": {
   "display_name": "Julia 1.8.0",
   "language": "julia",
   "name": "julia-1.8"
  },
  "language_info": {
   "file_extension": ".jl",
   "mimetype": "application/julia",
   "name": "julia",
   "version": "1.8.0"
  }
 },
 "nbformat": 4,
 "nbformat_minor": 5
}
