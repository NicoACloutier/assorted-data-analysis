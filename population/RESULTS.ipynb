{
 "cells": [
  {
   "cell_type": "markdown",
   "id": "4fec4d82",
   "metadata": {},
   "source": [
    "This was a simple project predicting various economic metrics using a country's population age/gender distribution. I collected the data from <a href=\"https://populationpyramid.net\"> populationpyramid.net </a>, a website that has downloadable population pyramid data for various countries and regions. I wrote a script to automatically go through each country's page, download the data, put it into one row rather than how it comes, in several, and then save all of the data to a local file. I then downloaded several economic indicator datasets from <a href=\"http://un.data.org\"> un.data.org </a>, a United Nations data resource. \n",
    "\n",
    "The indicators I attempted to predict were the income share held by the top 10%, the percent of the labor force in the military, the GDP per capita, and the percent of firms experiencing at least one bribery payment request. The population pyramid site had data for all countries from 1950 to 2022, but the indicators did not have data for all countries and all years. Initially, I considered deleting rows with at least one missing column, but this would get rid of almost the entire dataset. Instead, I started by assuming that the data would remain relatively constant within one country across many years. If any country had missing values for certain years but not for others, the script would choose another value from a different year at random for that country to assign to that year. If that country was not represented at all in the dataset, its values would be replaced by the mean value overall for that indicator. \n",
    "\n",
    "I trained three models: a linear model, a k-nearest neighbors model, and a decision tree, all for regression, trained with Scikit-Learn. The models are saved in the local models directory, and their results can be seen below. The models were tested on a seperate test file comprising 10% of the original dataset, the other 90% used for training. The split was made randomly. The distances are generated from the simple vector distance of the model's predictions and the output data; a lower distance is preferable.\n",
    "\n",
    "After that, I trained a basic sequential model with Keras/Tensorflow. It significantly underperformed the other models. I would consider adding more complexity, but its save file is already almost ten times as large as the largest save file for the other models. It appears as if this type of model is not as well suited to this problem as others."
   ]
  },
  {
   "cell_type": "code",
   "execution_count": 1,
   "id": "3d12dc3a",
   "metadata": {
    "scrolled": true
   },
   "outputs": [
    {
     "name": "stdout",
     "output_type": "stream",
     "text": [
      "\n",
      "Linear model fitted.\n",
      "gdp distance: 2.714\n",
      "military_percent distance: 2.348\n",
      "bribery distance: 1.626\n",
      "top_share distance: 0.422\n",
      "\n",
      "K-Nearest model fitted.\n",
      "gdp distance: 1.649\n",
      "military_percent distance: 1.484\n",
      "bribery distance: 0.967\n",
      "top_share distance: 0.253\n",
      "\n",
      "Decision-Tree model fitted.\n",
      "gdp distance: 2.751\n",
      "military_percent distance: 2.226\n",
      "bribery distance: 1.460\n",
      "top_share distance: 0.393\n",
      "\n",
      "Neural_Network model fitted.\n",
      "gdp distance: 4.365\n",
      "military_percent distance: 2.562\n",
      "bribery distance: 2.914\n",
      "top_share distance: 2.454\n",
      "\n"
     ]
    }
   ],
   "source": [
    "%run -i \"models.py\""
   ]
  }
 ],
 "metadata": {
  "kernelspec": {
   "display_name": "Python 3 (ipykernel)",
   "language": "python",
   "name": "python3"
  },
  "language_info": {
   "codemirror_mode": {
    "name": "ipython",
    "version": 3
   },
   "file_extension": ".py",
   "mimetype": "text/x-python",
   "name": "python",
   "nbconvert_exporter": "python",
   "pygments_lexer": "ipython3",
   "version": "3.9.12"
  }
 },
 "nbformat": 4,
 "nbformat_minor": 5
}
