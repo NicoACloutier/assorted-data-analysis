{
 "cells": [
  {
   "cell_type": "markdown",
   "id": "8f242e81",
   "metadata": {},
   "source": [
    "<title>Unfinished Automatic Crossword Solver Project</title>"
   ]
  },
  {
   "cell_type": "code",
   "execution_count": 1,
   "id": "db779690",
   "metadata": {},
   "outputs": [],
   "source": [
    "import pandas as pd\n",
    "from matplotlib import pyplot as plt\n",
    "import collections\n",
    "import numpy as np\n",
    "from scipy import stats"
   ]
  },
  {
   "cell_type": "code",
   "execution_count": 2,
   "id": "2ff3a02c",
   "metadata": {},
   "outputs": [],
   "source": [
    "sort = lambda counter: sorted([(counter[key], key) for key in counter], reverse=True)"
   ]
  },
  {
   "cell_type": "code",
   "execution_count": 3,
   "id": "73d5c5ec",
   "metadata": {},
   "outputs": [],
   "source": [
    "df = pd.read_csv('data\\\\xword.csv')\n",
    "df['Clue'] = df['Clue'].astype(str)\n",
    "df['Answer'] = df['Answer'].astype(str)\n",
    "df['ClueLength'] = df['Clue'].apply(lambda x: len(x))"
   ]
  },
  {
   "cell_type": "code",
   "execution_count": 4,
   "id": "e7d16aca",
   "metadata": {},
   "outputs": [
    {
     "data": {
      "image/png": "[encoded data removed]",
      "text/plain": [
       "<Figure size 432x288 with 1 Axes>"
      ]
     },
     "metadata": {
      "needs_background": "light"
     },
     "output_type": "display_data"
    }
   ],
   "source": [
    "answers = sort(collections.Counter(list(df[\"Answer\"])))\n",
    "    \n",
    "answers_count = [item[0] for item in answers]\n",
    "answers_words = [item[1] for item in answers]\n",
    "plt.figure()\n",
    "plt.bar(answers_words[:10], answers_count[:10])\n",
    "plt.xlabel('Answer')\n",
    "plt.ylabel('Appearances')\n",
    "plt.title('Most common crossword answers')\n",
    "plt.show()"
   ]
  },
  {
   "cell_type": "code",
   "execution_count": 5,
   "id": "5a5f3826",
   "metadata": {},
   "outputs": [
    {
     "name": "stdout",
     "output_type": "stream",
     "text": [
      "Character: \"e\". Appearances: 1794408\n",
      "Character: \" \". Appearances: 1643160\n",
      "Character: \"a\". Appearances: 1409014\n",
      "Character: \"o\". Appearances: 1202690\n",
      "Character: \"s\". Appearances: 1162314\n",
      "Character: \"r\". Appearances: 1153868\n",
      "Character: \"t\". Appearances: 1123249\n",
      "Character: \"i\". Appearances: 1055864\n",
      "Character: \"n\". Appearances: 1019886\n",
      "Character: \"l\". Appearances: 740853\n",
      "Character: \"c\". Appearances: 520036\n",
      "Character: \"d\". Appearances: 516441\n",
      "Character: \"h\". Appearances: 475808\n",
      "Character: \"m\". Appearances: 439277\n",
      "Character: \"p\". Appearances: 398262\n",
      "Character: \"u\". Appearances: 380875\n",
      "Character: \"g\". Appearances: 346365\n",
      "Character: \"f\". Appearances: 318521\n",
      "Character: \"b\". Appearances: 291797\n",
      "Character: \"y\". Appearances: 255340\n",
      "Character: \"w\". Appearances: 221204\n",
      "Character: \"_\". Appearances: 167566\n",
      "Character: \"k\". Appearances: 167123\n",
      "Character: \"v\". Appearances: 139878\n",
      "Character: \"\"\". Appearances: 138773\n",
      "Character: \".\". Appearances: 118300\n",
      "Character: \",\". Appearances: 86473\n",
      "Character: \"'\". Appearances: 85288\n",
      "Character: \"-\". Appearances: 55631\n",
      "Character: \"j\". Appearances: 37134\n",
      "Character: \"x\". Appearances: 34899\n",
      "Character: \"1\". Appearances: 32423\n",
      "Character: \"z\". Appearances: 30449\n",
      "Character: \"?\". Appearances: 29996\n",
      "Character: \"9\". Appearances: 23622\n",
      "Character: \":\". Appearances: 21592\n",
      "Character: \"q\". Appearances: 18915\n",
      "Character: \"0\". Appearances: 16713\n",
      "Character: \")\". Appearances: 15361\n",
      "Character: \"(\". Appearances: 15355\n",
      "Character: \"2\". Appearances: 11656\n",
      "Character: \"5\". Appearances: 9954\n",
      "Character: \"4\". Appearances: 9685\n",
      "Character: \"6\". Appearances: 9621\n",
      "Character: \"8\". Appearances: 9376\n",
      "Character: \"7\". Appearances: 8796\n",
      "Character: \"3\". Appearances: 8620\n",
      "Character: \"!\". Appearances: 7454\n",
      "Character: \"é\". Appearances: 2419\n",
      "Character: \"/\". Appearances: 2344\n",
      "Character: \"*\". Appearances: 1908\n",
      "Character: \";\". Appearances: 1660\n",
      "Character: \"#\". Appearances: 1124\n",
      "Character: \"&\". Appearances: 949\n",
      "Character: \"–\". Appearances: 930\n",
      "Character: \"]\". Appearances: 481\n",
      "Character: \"[\". Appearances: 480\n",
      "Character: \"<\". Appearances: 478\n",
      "Character: \">\". Appearances: 471\n",
      "Character: \"á\". Appearances: 455\n",
      "Character: \"è\". Appearances: 453\n",
      "Character: \"à\". Appearances: 342\n",
      "Character: \"ñ\". Appearances: 321\n",
      "Character: \"+\". Appearances: 321\n",
      "Character: \"ó\". Appearances: 268\n",
      "Character: \"$\". Appearances: 217\n",
      "Character: \"%\". Appearances: 206\n",
      "Character: \"ü\". Appearances: 186\n",
      "Character: \"í\". Appearances: 163\n",
      "Character: \"ö\". Appearances: 144\n",
      "Character: \"ç\". Appearances: 134\n",
      "Character: \"=\". Appearances: 123\n",
      "Character: \"ã\". Appearances: 116\n",
      "Character: \"ë\". Appearances: 106\n",
      "Character: \"ê\". Appearances: 101\n",
      "Character: \"ô\". Appearances: 97\n",
      "Character: \"ï\". Appearances: 90\n",
      "Character: \"â\". Appearances: 70\n",
      "Character: \"°\". Appearances: 65\n",
      "Character: \"ä\". Appearances: 64\n",
      "Character: \"ú\". Appearances: 54\n",
      "Character: \"î\". Appearances: 47\n",
      "Character: \"—\". Appearances: 46\n",
      "Character: \"©\". Appearances: 39\n",
      "Character: \"@\". Appearances: 28\n",
      "Character: \"¢\". Appearances: 27\n",
      "Character: \"û\". Appearances: 21\n",
      "Character: \"÷\". Appearances: 17\n",
      "Character: \"^\". Appearances: 14\n",
      "Character: \" \". Appearances: 13\n",
      "Character: \"¿\". Appearances: 12\n",
      "Character: \"½\". Appearances: 11\n",
      "Character: \"‘\". Appearances: 10\n",
      "Character: \"­\". Appearances: 10\n",
      "Character: \"¨\". Appearances: 10\n",
      "Character: \"}\". Appearances: 9\n",
      "Character: \"ì\". Appearances: 7\n",
      "Character: \"ò\". Appearances: 6\n",
      "Character: \"·\". Appearances: 6\n",
      "Character: \"¡\". Appearances: 6\n",
      "Character: \"º\". Appearances: 5\n",
      "Character: \"ù\". Appearances: 3\n",
      "Character: \"×\". Appearances: 3\n",
      "Character: \"³\". Appearances: 3\n",
      "Character: \"±\". Appearances: 3\n",
      "Character: \"¼\". Appearances: 2\n",
      "Character: \"¶\". Appearances: 2\n",
      "Character: \"«\". Appearances: 2\n",
      "Character: \"§\". Appearances: 2\n",
      "Character: \"\". Appearances: 2\n",
      "Character: \"|\". Appearances: 2\n",
      "Character: \"{\". Appearances: 2\n",
      "Character: \"€\". Appearances: 1\n",
      "Character: \"‰\". Appearances: 1\n",
      "Character: \"ð\". Appearances: 1\n",
      "Character: \"å\". Appearances: 1\n",
      "Character: \"»\". Appearances: 1\n",
      "Character: \"´\". Appearances: 1\n",
      "Character: \"²\". Appearances: 1\n",
      "Character: \"®\". Appearances: 1\n",
      "Character: \"\\\". Appearances: 1\n",
      "Character: \"\t\". Appearances: 1\n"
     ]
    }
   ],
   "source": [
    "all_text = list(''.join(list(df['Answer'])).lower() + ''.join(list(df['Clue'])).lower())\n",
    "all_counter = sort(collections.Counter(all_text))\n",
    "for word_tuple in all_counter:\n",
    "    print(f'Character: \"{word_tuple[1]}\". Appearances: {word_tuple[0]}')"
   ]
  },
  {
   "cell_type": "code",
   "execution_count": 6,
   "id": "db1100ec",
   "metadata": {},
   "outputs": [],
   "source": [
    "#remove outliers\n",
    "df = df[(np.abs(stats.zscore(df['Length'])) < 3)]\n",
    "df = df[(np.abs(stats.zscore(df['ClueLength'])) < 3)]"
   ]
  },
  {
   "cell_type": "code",
   "execution_count": 7,
   "id": "5e5c4946",
   "metadata": {},
   "outputs": [
    {
     "data": {
      "image/png": "[encoded data removed]",
      "text/plain": [
       "<Figure size 432x288 with 1 Axes>"
      ]
     },
     "metadata": {
      "needs_background": "light"
     },
     "output_type": "display_data"
    },
    {
     "data": {
      "image/png": "[encoded data removed]",
      "text/plain": [
       "<Figure size 432x288 with 1 Axes>"
      ]
     },
     "metadata": {
      "needs_background": "light"
     },
     "output_type": "display_data"
    }
   ],
   "source": [
    "plt.figure()\n",
    "plt.hist(list(df['Length']))\n",
    "plt.xlabel('Answer length')\n",
    "plt.ylabel('Appearances')\n",
    "plt.title('Answer lengths by commonality')\n",
    "plt.show()\n",
    "plt.figure()\n",
    "plt.hist(list(df['ClueLength']))\n",
    "plt.xlabel('Clue length')\n",
    "plt.ylabel('Appearances')\n",
    "plt.title('Clue lengths by commonality')\n",
    "plt.show()"
   ]
  },
  {
   "cell_type": "markdown",
   "id": "922417ce-782a-4537-96d0-52928017bc85",
   "metadata": {},
   "source": [
    "An evaluation of the initial training of the model was done and can be found in the directory '.\\v1_model' in the file 'evaluate.ipynb'. This model performed very poorly, and I will be now attempting to finetune a pretrained character model for an attempt at better performance."
   ]
  }
 ],
 "metadata": {
  "kernelspec": {
   "display_name": "Python 3 (ipykernel)",
   "language": "python",
   "name": "python3"
  },
  "language_info": {
   "codemirror_mode": {
    "name": "ipython",
    "version": 3
   },
   "file_extension": ".py",
   "mimetype": "text/x-python",
   "name": "python",
   "nbconvert_exporter": "python",
   "pygments_lexer": "ipython3",
   "version": "3.9.12"
  }
 },
 "nbformat": 4,
 "nbformat_minor": 5
}
