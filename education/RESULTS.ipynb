{
 "cells": [
  {
   "cell_type": "markdown",
   "id": "fbaa6609",
   "metadata": {},
   "source": [
    "This is a project to make a dataset of California public high schools, along with modelling their scores on the California Assessment of Student Performance and Progress (CAASPP). The purpose is to build a dataset that could be used for other projects and to use AI to model the educational disparities in different types of California public schools. California was selected because of the large amount of data it publishes on its schools. The dataset was constructed with publically available data from the <a href=\"https://www.cde.ca.gov/ds/ad/accessdatasub.asp\">California Department of Education website</a>. The dataset contains information on basic identification (school name and CSD number), physical location (both coordinates and district/county/city), type of school (charter/magnet/virtual or none), percentage of students receiving free or reduced-price meals (FRPM), demographic data including gender and race makeup of the school, as well as scores on the CAASPP for school years 2015-16 to 2021-22. There is no test data for school year 2020-21 because tests were not conducted then, but other data is available for that year. An example of a full row of data in the dataset is shown below (the fifth row is shown because this is the first row with no columns missing)."
   ]
  },
  {
   "cell_type": "code",
   "execution_count": 1,
   "id": "807e87ab",
   "metadata": {},
   "outputs": [
    {
     "name": "stdout",
     "output_type": "stream",
     "text": [
      "CDSCode                 1611190130229\n",
      "County                        Alameda\n",
      "District              Alameda Unified\n",
      "School                   Alameda High\n",
      "City                          Alameda\n",
      "Charter                             N\n",
      "Virtual                             N\n",
      "Magnet                              N\n",
      "Latitude                    37.764958\n",
      "Longitude                  -122.24593\n",
      "Year                             2016\n",
      "FRPM%                           0.178\n",
      "Exceeded%                        33.0\n",
      "Met%                             27.0\n",
      "Met and Above%                   60.0\n",
      "Nearly Met%                      24.0\n",
      "Not Met%                         16.0\n",
      "M-American Indian             0.00112\n",
      "M-Asian                      0.198768\n",
      "M-Pacific Islander             0.0028\n",
      "M-Filipino                   0.026876\n",
      "M-Hispanic                    0.06495\n",
      "M-African American           0.033595\n",
      "M-White                      0.152296\n",
      "F-American Indian             0.00112\n",
      "F-Asian                      0.201568\n",
      "F-Pacific Islander            0.00224\n",
      "F-Filipino                   0.031355\n",
      "F-Hispanic                   0.047592\n",
      "F-African American           0.028555\n",
      "F-White                      0.159015\n",
      "Name: 5, dtype: object\n"
     ]
    }
   ],
   "source": [
    "import pandas as pd\n",
    "df = pd.read_csv('schools.csv')\n",
    "print(df.iloc[5])"
   ]
  },
  {
   "cell_type": "markdown",
   "id": "85cee9c7",
   "metadata": {},
   "source": [
    "In regards to the model, training it on my Surface laptop CPU typically takes about 1 minute and 40 seconds, and I typically reach a loss of roughly 0.035, with a similar validation loss. I used a learning rate of 0.01 because this learning rate produced the lowest loss out of the three I tried (0.1, 0.01, and 0.001), and I capped training at 3 epochs because the model did not improve much beyond 0.035 when I ran it for more than 3. An example model call is shown below. The model will predict the proportion from 0 to 1 of students that met the standard set by the state or exceeded them (Met and Above% in the dataset, divided by 100)."
   ]
  },
  {
   "cell_type": "code",
   "execution_count": 12,
   "id": "7d8e432b",
   "metadata": {},
   "outputs": [
    {
     "name": "stdout",
     "output_type": "stream",
     "text": [
      "0.6317671073658735\n",
      "0.14847872303743656\n"
     ]
    }
   ],
   "source": [
    "import torch\n",
    "import random\n",
    "from train import Model\n",
    "with torch.no_grad():\n",
    "    model = Model(13, 1).double()\n",
    "    model = torch.load('model\\\\model.pt')\n",
    "    model.eval()\n",
    "    output1 = model.forward(torch.tensor([0, #1 for charter school, 0 for not\n",
    "                                          0, #1 for virtual school, 0 for not\n",
    "                                          0, #1 for magnet school, 0 for not\n",
    "                                          0, #latitude difference from mean latitude of dataset\n",
    "                                          0, #longitude difference from mean longitude of dataset\n",
    "                                          0.1, #percent of students receiving free or reduced-price meals\n",
    "                                          0.5, #percent of students that are male\n",
    "                                          0, #percent of students that are American Indian\n",
    "                                          0.1, #percent of students that are Asian\n",
    "                                          0.05, #percent of students that are Pacific Islander\n",
    "                                          0.05, #percent of students that are Filipino\n",
    "                                          0.2, #percent of students that are Hispanic\n",
    "                                          0.2, #percent of students that are Black\n",
    "                                          ]).double()).item()\n",
    "    \n",
    "    \n",
    "    #do the same thing as above but with randomly generated values\n",
    "    r = random.random\n",
    "    output2 = model.forward(torch.tensor([r(), #1 for charter school, 0 for not\n",
    "                                          r(), #1 for virtual school, 0 for not\n",
    "                                          r(), #1 for magnet school, 0 for not\n",
    "                                          r(), #latitude difference from mean latitude of dataset\n",
    "                                          r(), #longitude difference from mean longitude of dataset\n",
    "                                          r(), #percent of students receiving free or reduced-price meals\n",
    "                                          r(), #percent of students that are male\n",
    "                                          r(), #percent of students that are American Indian\n",
    "                                          r(), #percent of students that are Asian\n",
    "                                          r(), #percent of students that are Pacific Islander\n",
    "                                          r(), #percent of students that are Filipino\n",
    "                                          r(), #percent of students that are Hispanic\n",
    "                                          r(), #percent of students that are Black\n",
    "                                          ]).double()).item()\n",
    "    \n",
    "print(output1) #the first (non-random) result\n",
    "print(output2) #the second (random) result"
   ]
  }
 ],
 "metadata": {
  "kernelspec": {
   "display_name": "Python 3 (ipykernel)",
   "language": "python",
   "name": "python3"
  },
  "language_info": {
   "codemirror_mode": {
    "name": "ipython",
    "version": 3
   },
   "file_extension": ".py",
   "mimetype": "text/x-python",
   "name": "python",
   "nbconvert_exporter": "python",
   "pygments_lexer": "ipython3",
   "version": "3.9.12"
  }
 },
 "nbformat": 4,
 "nbformat_minor": 5
}
